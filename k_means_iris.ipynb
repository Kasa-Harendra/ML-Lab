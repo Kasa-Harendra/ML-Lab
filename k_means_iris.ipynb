{
 "cells": [
  {
   "cell_type": "code",
   "execution_count": 1,
   "id": "240ee1c6",
   "metadata": {},
   "outputs": [],
   "source": [
    "import pandas as pd\n",
    "import numpy as np\n",
    "from sklearn.cluster import KMeans\n",
    "from sklearn.datasets import load_iris"
   ]
  },
  {
   "cell_type": "code",
   "execution_count": 2,
   "id": "cddf8164",
   "metadata": {},
   "outputs": [],
   "source": [
    "data = load_iris()\n",
    "df = pd.DataFrame(data.data[:, :2], columns=['SepalLength', 'SepalWidth'])"
   ]
  },
  {
   "cell_type": "code",
   "execution_count": 3,
   "id": "7f357a6a",
   "metadata": {},
   "outputs": [
    {
     "data": {
      "application/vnd.microsoft.datawrangler.viewer.v0+json": {
       "columns": [
        {
         "name": "index",
         "rawType": "int64",
         "type": "integer"
        },
        {
         "name": "SepalLength",
         "rawType": "float64",
         "type": "float"
        },
        {
         "name": "SepalWidth",
         "rawType": "float64",
         "type": "float"
        }
       ],
       "ref": "d68e0e2f-2550-4bb6-9b9c-456099b39b8b",
       "rows": [
        [
         "0",
         "5.1",
         "3.5"
        ],
        [
         "1",
         "4.9",
         "3.0"
        ],
        [
         "2",
         "4.7",
         "3.2"
        ],
        [
         "3",
         "4.6",
         "3.1"
        ],
        [
         "4",
         "5.0",
         "3.6"
        ],
        [
         "5",
         "5.4",
         "3.9"
        ],
        [
         "6",
         "4.6",
         "3.4"
        ],
        [
         "7",
         "5.0",
         "3.4"
        ],
        [
         "8",
         "4.4",
         "2.9"
        ],
        [
         "9",
         "4.9",
         "3.1"
        ],
        [
         "10",
         "5.4",
         "3.7"
        ],
        [
         "11",
         "4.8",
         "3.4"
        ],
        [
         "12",
         "4.8",
         "3.0"
        ],
        [
         "13",
         "4.3",
         "3.0"
        ],
        [
         "14",
         "5.8",
         "4.0"
        ],
        [
         "15",
         "5.7",
         "4.4"
        ],
        [
         "16",
         "5.4",
         "3.9"
        ],
        [
         "17",
         "5.1",
         "3.5"
        ],
        [
         "18",
         "5.7",
         "3.8"
        ],
        [
         "19",
         "5.1",
         "3.8"
        ],
        [
         "20",
         "5.4",
         "3.4"
        ],
        [
         "21",
         "5.1",
         "3.7"
        ],
        [
         "22",
         "4.6",
         "3.6"
        ],
        [
         "23",
         "5.1",
         "3.3"
        ],
        [
         "24",
         "4.8",
         "3.4"
        ],
        [
         "25",
         "5.0",
         "3.0"
        ],
        [
         "26",
         "5.0",
         "3.4"
        ],
        [
         "27",
         "5.2",
         "3.5"
        ],
        [
         "28",
         "5.2",
         "3.4"
        ],
        [
         "29",
         "4.7",
         "3.2"
        ],
        [
         "30",
         "4.8",
         "3.1"
        ],
        [
         "31",
         "5.4",
         "3.4"
        ],
        [
         "32",
         "5.2",
         "4.1"
        ],
        [
         "33",
         "5.5",
         "4.2"
        ],
        [
         "34",
         "4.9",
         "3.1"
        ],
        [
         "35",
         "5.0",
         "3.2"
        ],
        [
         "36",
         "5.5",
         "3.5"
        ],
        [
         "37",
         "4.9",
         "3.6"
        ],
        [
         "38",
         "4.4",
         "3.0"
        ],
        [
         "39",
         "5.1",
         "3.4"
        ],
        [
         "40",
         "5.0",
         "3.5"
        ],
        [
         "41",
         "4.5",
         "2.3"
        ],
        [
         "42",
         "4.4",
         "3.2"
        ],
        [
         "43",
         "5.0",
         "3.5"
        ],
        [
         "44",
         "5.1",
         "3.8"
        ],
        [
         "45",
         "4.8",
         "3.0"
        ],
        [
         "46",
         "5.1",
         "3.8"
        ],
        [
         "47",
         "4.6",
         "3.2"
        ],
        [
         "48",
         "5.3",
         "3.7"
        ],
        [
         "49",
         "5.0",
         "3.3"
        ]
       ],
       "shape": {
        "columns": 2,
        "rows": 150
       }
      },
      "text/html": [
       "<div>\n",
       "<style scoped>\n",
       "    .dataframe tbody tr th:only-of-type {\n",
       "        vertical-align: middle;\n",
       "    }\n",
       "\n",
       "    .dataframe tbody tr th {\n",
       "        vertical-align: top;\n",
       "    }\n",
       "\n",
       "    .dataframe thead th {\n",
       "        text-align: right;\n",
       "    }\n",
       "</style>\n",
       "<table border=\"1\" class=\"dataframe\">\n",
       "  <thead>\n",
       "    <tr style=\"text-align: right;\">\n",
       "      <th></th>\n",
       "      <th>SepalLength</th>\n",
       "      <th>SepalWidth</th>\n",
       "    </tr>\n",
       "  </thead>\n",
       "  <tbody>\n",
       "    <tr>\n",
       "      <th>0</th>\n",
       "      <td>5.1</td>\n",
       "      <td>3.5</td>\n",
       "    </tr>\n",
       "    <tr>\n",
       "      <th>1</th>\n",
       "      <td>4.9</td>\n",
       "      <td>3.0</td>\n",
       "    </tr>\n",
       "    <tr>\n",
       "      <th>2</th>\n",
       "      <td>4.7</td>\n",
       "      <td>3.2</td>\n",
       "    </tr>\n",
       "    <tr>\n",
       "      <th>3</th>\n",
       "      <td>4.6</td>\n",
       "      <td>3.1</td>\n",
       "    </tr>\n",
       "    <tr>\n",
       "      <th>4</th>\n",
       "      <td>5.0</td>\n",
       "      <td>3.6</td>\n",
       "    </tr>\n",
       "    <tr>\n",
       "      <th>...</th>\n",
       "      <td>...</td>\n",
       "      <td>...</td>\n",
       "    </tr>\n",
       "    <tr>\n",
       "      <th>145</th>\n",
       "      <td>6.7</td>\n",
       "      <td>3.0</td>\n",
       "    </tr>\n",
       "    <tr>\n",
       "      <th>146</th>\n",
       "      <td>6.3</td>\n",
       "      <td>2.5</td>\n",
       "    </tr>\n",
       "    <tr>\n",
       "      <th>147</th>\n",
       "      <td>6.5</td>\n",
       "      <td>3.0</td>\n",
       "    </tr>\n",
       "    <tr>\n",
       "      <th>148</th>\n",
       "      <td>6.2</td>\n",
       "      <td>3.4</td>\n",
       "    </tr>\n",
       "    <tr>\n",
       "      <th>149</th>\n",
       "      <td>5.9</td>\n",
       "      <td>3.0</td>\n",
       "    </tr>\n",
       "  </tbody>\n",
       "</table>\n",
       "<p>150 rows × 2 columns</p>\n",
       "</div>"
      ],
      "text/plain": [
       "     SepalLength  SepalWidth\n",
       "0            5.1         3.5\n",
       "1            4.9         3.0\n",
       "2            4.7         3.2\n",
       "3            4.6         3.1\n",
       "4            5.0         3.6\n",
       "..           ...         ...\n",
       "145          6.7         3.0\n",
       "146          6.3         2.5\n",
       "147          6.5         3.0\n",
       "148          6.2         3.4\n",
       "149          5.9         3.0\n",
       "\n",
       "[150 rows x 2 columns]"
      ]
     },
     "execution_count": 3,
     "metadata": {},
     "output_type": "execute_result"
    }
   ],
   "source": [
    "df"
   ]
  },
  {
   "cell_type": "code",
   "execution_count": 8,
   "id": "8098f7af",
   "metadata": {},
   "outputs": [],
   "source": [
    "model = KMeans(n_clusters=3, random_state=42)\n",
    "y_pred = model.fit_predict(df)"
   ]
  },
  {
   "cell_type": "code",
   "execution_count": 9,
   "id": "b5a6281a",
   "metadata": {},
   "outputs": [
    {
     "data": {
      "text/plain": [
       "array([2, 2, 2, 2, 2, 2, 2, 2, 2, 2, 2, 2, 2, 2, 2, 2, 2, 2, 2, 2, 2, 2,\n",
       "       2, 2, 2, 2, 2, 2, 2, 2, 2, 2, 2, 2, 2, 2, 2, 2, 2, 2, 2, 2, 2, 2,\n",
       "       2, 2, 2, 2, 2, 2, 0, 0, 0, 1, 0, 1, 0, 1, 0, 1, 1, 1, 1, 1, 1, 0,\n",
       "       1, 1, 1, 1, 1, 1, 1, 1, 0, 0, 0, 0, 1, 1, 1, 1, 1, 1, 1, 1, 0, 1,\n",
       "       1, 1, 1, 1, 1, 1, 1, 1, 1, 1, 1, 1, 0, 1, 0, 0, 0, 0, 1, 0, 0, 0,\n",
       "       0, 0, 0, 1, 1, 0, 0, 0, 0, 1, 0, 1, 0, 1, 0, 0, 1, 1, 0, 0, 0, 0,\n",
       "       0, 1, 1, 0, 0, 0, 1, 0, 0, 0, 1, 0, 0, 0, 1, 0, 0, 1], dtype=int32)"
      ]
     },
     "execution_count": 9,
     "metadata": {},
     "output_type": "execute_result"
    }
   ],
   "source": [
    "y_pred"
   ]
  },
  {
   "cell_type": "code",
   "execution_count": 10,
   "id": "a4925a40",
   "metadata": {},
   "outputs": [
    {
     "data": {
      "text/plain": [
       "array([[6.81276596, 3.07446809],\n",
       "       [5.77358491, 2.69245283],\n",
       "       [5.006     , 3.428     ]])"
      ]
     },
     "execution_count": 10,
     "metadata": {},
     "output_type": "execute_result"
    }
   ],
   "source": [
    "model.cluster_centers_"
   ]
  },
  {
   "cell_type": "code",
   "execution_count": 11,
   "id": "5c75cdc3",
   "metadata": {},
   "outputs": [
    {
     "data": {
      "text/plain": [
       "(array([6.81276596, 5.77358491, 5.006     ]),\n",
       " array([3.07446809, 2.69245283, 3.428     ]))"
      ]
     },
     "execution_count": 11,
     "metadata": {},
     "output_type": "execute_result"
    }
   ],
   "source": [
    "centers_x = model.cluster_centers_[:, 0]\n",
    "centers_y = model.cluster_centers_[:, 1]\n",
    "centers_x, centers_y"
   ]
  },
  {
   "cell_type": "code",
   "execution_count": 14,
   "id": "3303eef3",
   "metadata": {},
   "outputs": [],
   "source": [
    "df['pred'] = y_pred"
   ]
  },
  {
   "cell_type": "code",
   "execution_count": 15,
   "id": "1d218faa",
   "metadata": {},
   "outputs": [],
   "source": [
    "df1 = df[df['pred']==0]\n",
    "df2 = df[df['pred']==1]\n",
    "df3 = df[df['pred']==2]"
   ]
  },
  {
   "cell_type": "code",
   "execution_count": 17,
   "id": "66f01a89",
   "metadata": {},
   "outputs": [
    {
     "data": {
      "image/png": "[encoded data removed]",
      "text/plain": [
       "<Figure size 640x480 with 1 Axes>"
      ]
     },
     "metadata": {},
     "output_type": "display_data"
    }
   ],
   "source": [
    "import matplotlib.pyplot as plt\n",
    "\n",
    "plt.scatter(df1['SepalLength'], df1['SepalWidth'], c='r', marker='o', label=\"Versicolor\")\n",
    "plt.scatter(df2['SepalLength'], df2['SepalWidth'], c='b', marker='d', label=\"Virginica\")\n",
    "plt.scatter(df3['SepalLength'], df3['SepalWidth'], c='g', marker='s', label=\"Setosa\")\n",
    "plt.scatter(centers_x, centers_y, marker=\"*\", c=\"purple\", label=\"Centroids\")\n",
    "plt.title(\"K-Means Clustering\")\n",
    "plt.legend()\n",
    "\n",
    "plt.show()"
   ]
  },
  {
   "cell_type": "code",
   "execution_count": null,
   "id": "a718cb7a",
   "metadata": {},
   "outputs": [],
   "source": []
  }
 ],
 "metadata": {
  "kernelspec": {
   "display_name": "Python 3",
   "language": "python",
   "name": "python3"
  },
  "language_info": {
   "codemirror_mode": {
    "name": "ipython",
    "version": 3
   },
   "file_extension": ".py",
   "mimetype": "text/x-python",
   "name": "python",
   "nbconvert_exporter": "python",
   "pygments_lexer": "ipython3",
   "version": "3.11.9"
  }
 },
 "nbformat": 4,
 "nbformat_minor": 5
}
