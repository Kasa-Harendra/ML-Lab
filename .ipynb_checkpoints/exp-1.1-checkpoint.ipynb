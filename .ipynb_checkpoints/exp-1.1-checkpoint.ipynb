{
 "cells": [
  {
   "cell_type": "code",
   "execution_count": 1,
   "id": "db5352f3-5272-4927-9e0e-1d92f9cad943",
   "metadata": {},
   "outputs": [],
   "source": [
    "import pandas as pd\n",
    "import numpy as np"
   ]
  },
  {
   "cell_type": "code",
   "execution_count": 2,
   "id": "f70d7c36-26cb-4836-af6c-95da4424c6cf",
   "metadata": {},
   "outputs": [
    {
     "data": {
      "text/html": [
       "<div>\n",
       "<style scoped>\n",
       "    .dataframe tbody tr th:only-of-type {\n",
       "        vertical-align: middle;\n",
       "    }\n",
       "\n",
       "    .dataframe tbody tr th {\n",
       "        vertical-align: top;\n",
       "    }\n",
       "\n",
       "    .dataframe thead th {\n",
       "        text-align: right;\n",
       "    }\n",
       "</style>\n",
       "<table border=\"1\" class=\"dataframe\">\n",
       "  <thead>\n",
       "    <tr style=\"text-align: right;\">\n",
       "      <th></th>\n",
       "      <th>Id</th>\n",
       "      <th>SepalLengthCm</th>\n",
       "      <th>SepalWidthCm</th>\n",
       "      <th>PetalLengthCm</th>\n",
       "      <th>PetalWidthCm</th>\n",
       "      <th>Species</th>\n",
       "    </tr>\n",
       "  </thead>\n",
       "  <tbody>\n",
       "    <tr>\n",
       "      <th>0</th>\n",
       "      <td>1</td>\n",
       "      <td>5.1</td>\n",
       "      <td>3.5</td>\n",
       "      <td>1.4</td>\n",
       "      <td>0.2</td>\n",
       "      <td>Iris-setosa</td>\n",
       "    </tr>\n",
       "    <tr>\n",
       "      <th>1</th>\n",
       "      <td>2</td>\n",
       "      <td>4.9</td>\n",
       "      <td>3.0</td>\n",
       "      <td>1.4</td>\n",
       "      <td>0.2</td>\n",
       "      <td>Iris-setosa</td>\n",
       "    </tr>\n",
       "    <tr>\n",
       "      <th>2</th>\n",
       "      <td>3</td>\n",
       "      <td>4.7</td>\n",
       "      <td>3.2</td>\n",
       "      <td>1.3</td>\n",
       "      <td>0.2</td>\n",
       "      <td>Iris-setosa</td>\n",
       "    </tr>\n",
       "    <tr>\n",
       "      <th>3</th>\n",
       "      <td>4</td>\n",
       "      <td>4.6</td>\n",
       "      <td>3.1</td>\n",
       "      <td>1.5</td>\n",
       "      <td>0.2</td>\n",
       "      <td>Iris-setosa</td>\n",
       "    </tr>\n",
       "    <tr>\n",
       "      <th>4</th>\n",
       "      <td>5</td>\n",
       "      <td>5.0</td>\n",
       "      <td>3.6</td>\n",
       "      <td>1.4</td>\n",
       "      <td>0.2</td>\n",
       "      <td>Iris-setosa</td>\n",
       "    </tr>\n",
       "  </tbody>\n",
       "</table>\n",
       "</div>"
      ],
      "text/plain": [
       "   Id  SepalLengthCm  SepalWidthCm  PetalLengthCm  PetalWidthCm      Species\n",
       "0   1            5.1           3.5            1.4           0.2  Iris-setosa\n",
       "1   2            4.9           3.0            1.4           0.2  Iris-setosa\n",
       "2   3            4.7           3.2            1.3           0.2  Iris-setosa\n",
       "3   4            4.6           3.1            1.5           0.2  Iris-setosa\n",
       "4   5            5.0           3.6            1.4           0.2  Iris-setosa"
      ]
     },
     "execution_count": 2,
     "metadata": {},
     "output_type": "execute_result"
    }
   ],
   "source": [
    "df = pd.read_csv('iris.csv')\n",
    "df.head()"
   ]
  },
  {
   "cell_type": "code",
   "execution_count": 3,
   "id": "fe60f252-f47c-4698-8ca8-47c7d3db2bea",
   "metadata": {},
   "outputs": [
    {
     "data": {
      "text/plain": [
       "(150, 6)"
      ]
     },
     "execution_count": 3,
     "metadata": {},
     "output_type": "execute_result"
    }
   ],
   "source": [
    "df.shape"
   ]
  },
  {
   "cell_type": "code",
   "execution_count": 4,
   "id": "aca46157-b940-41fd-b7d6-5614a7e85aae",
   "metadata": {},
   "outputs": [
    {
     "name": "stdout",
     "output_type": "stream",
     "text": [
      "------------------------------------------------------------\n",
      "SepalLengthCm \n",
      "\n",
      "Mean : 5.843333333333334\n",
      "Median : 5.8\n",
      "Mode : 0    5.0\n",
      "Name: SepalLengthCm, dtype: float64\n",
      "Standard deviation : 0.828066127977863\n",
      "Variance : 0.6856935123042507\n",
      "------------------------------------------------------------\n",
      "SepalWidthCm \n",
      "\n",
      "Mean : 3.0540000000000003\n",
      "Median : 3.0\n",
      "Mode : 0    3.0\n",
      "Name: SepalWidthCm, dtype: float64\n",
      "Standard deviation : 0.4335943113621737\n",
      "Variance : 0.1880040268456376\n",
      "------------------------------------------------------------\n",
      "PetalLengthCm \n",
      "\n",
      "Mean : 3.758666666666666\n",
      "Median : 4.35\n",
      "Mode : 0    1.5\n",
      "Name: PetalLengthCm, dtype: float64\n",
      "Standard deviation : 1.7644204199522626\n",
      "Variance : 3.113179418344519\n",
      "------------------------------------------------------------\n",
      "PetalWidthCm \n",
      "\n",
      "Mean : 1.1986666666666668\n",
      "Median : 1.3\n",
      "Mode : 0    0.2\n",
      "Name: PetalWidthCm, dtype: float64\n",
      "Standard deviation : 0.7631607417008411\n",
      "Variance : 0.582414317673378\n"
     ]
    }
   ],
   "source": [
    "for column in list(df.columns)[1:5]:\n",
    "    print('------------------------------------------------------------')\n",
    "    print(f'{column} \\n')\n",
    "    print(f'Mean : {df[column].mean()}')\n",
    "    print(f'Median : {df[column].median()}')\n",
    "    print(f'Mode : {df[column].mode()}')\n",
    "    print(f'Standard deviation : {df[column].std()}')\n",
    "    print(f'Variance : {df[column].var()}')\n",
    "    #print('------------------------------------------------------------')"
   ]
  },
  {
   "cell_type": "code",
   "execution_count": 5,
   "id": "9ee73a98-a76e-4f97-adbc-4fb2908c171f",
   "metadata": {},
   "outputs": [
    {
     "name": "stdout",
     "output_type": "stream",
     "text": [
      "------------------------------------------------------------\n",
      "SepalLengthCm \n",
      "\n",
      "Mean : 5.843333333333334\n",
      "Median : 5.8\n",
      "Variance : 0.6811222222222223\n",
      "Standard Deviation : 0.8253012917851409\n",
      "------------------------------------------------------------\n",
      "SepalWidthCm \n",
      "\n",
      "Mean : 3.0540000000000003\n",
      "Median : 3.0\n",
      "Variance : 0.18675066666666668\n",
      "Standard Deviation : 0.4321465800705435\n",
      "------------------------------------------------------------\n",
      "PetalLengthCm \n",
      "\n",
      "Mean : 3.758666666666666\n",
      "Median : 4.35\n",
      "Variance : 3.092424888888889\n",
      "Standard Deviation : 1.7585291834055212\n",
      "------------------------------------------------------------\n",
      "PetalWidthCm \n",
      "\n",
      "Mean : 1.1986666666666668\n",
      "Median : 1.3\n",
      "Variance : 0.5785315555555555\n",
      "Standard Deviation : 0.7606126185881716\n"
     ]
    }
   ],
   "source": [
    "for column in list(df.columns)[1:5]:\n",
    "    print('------------------------------------------------------------')\n",
    "    print(f'{column} \\n')\n",
    "    print(f'Mean : {np.mean(df[column])}')\n",
    "    print(f'Median : {np.median(df[column])}')\n",
    "    #print(f'Mode of column {column}: {np.mode(df[column])}')\n",
    "    print(f'Variance : {np.var(df[column])}')\n",
    "    print(f'Standard Deviation : {np.std(df[column])}')\n",
    "    #print('--------------------------------------------------------------')"
   ]
  },
  {
   "cell_type": "code",
   "execution_count": 6,
   "id": "ea4b061e-39e0-4e40-aa24-5ea8b7c6d9c4",
   "metadata": {},
   "outputs": [
    {
     "data": {
      "text/plain": [
       "np.float64(5.843333333333334)"
      ]
     },
     "execution_count": 6,
     "metadata": {},
     "output_type": "execute_result"
    }
   ],
   "source": [
    "np.mean(df['SepalLengthCm'])"
   ]
  },
  {
   "cell_type": "code",
   "execution_count": 7,
   "id": "d00c2e23-502c-48e0-9587-101fe778c42c",
   "metadata": {},
   "outputs": [
    {
     "data": {
      "text/plain": [
       "np.float64(5.8)"
      ]
     },
     "execution_count": 7,
     "metadata": {},
     "output_type": "execute_result"
    }
   ],
   "source": [
    "np.median(df['SepalLengthCm'])"
   ]
  },
  {
   "cell_type": "code",
   "execution_count": 8,
   "id": "d855e449-1dd3-42a5-85d6-e95c6bd540bb",
   "metadata": {},
   "outputs": [
    {
     "data": {
      "text/plain": [
       "np.float64(5.843333333333334)"
      ]
     },
     "execution_count": 8,
     "metadata": {},
     "output_type": "execute_result"
    }
   ],
   "source": [
    "df['SepalLengthCm'].mean()"
   ]
  },
  {
   "cell_type": "code",
   "execution_count": 9,
   "id": "4cb09bcf-2839-4bd6-b102-863323b7d2ae",
   "metadata": {},
   "outputs": [
    {
     "data": {
      "text/plain": [
       "SepalLengthCm    5.843333\n",
       "SepalWidthCm     3.054000\n",
       "PetalLengthCm    3.758667\n",
       "PetalWidthCm     1.198667\n",
       "dtype: float64"
      ]
     },
     "execution_count": 9,
     "metadata": {},
     "output_type": "execute_result"
    }
   ],
   "source": [
    "df.iloc[:, 1:5].mean()"
   ]
  },
  {
   "cell_type": "markdown",
   "id": "b45e0a6b-1130-4e2e-8385-96cf98848a3d",
   "metadata": {},
   "source": [
    "### Mean, Median, SD accross the dataset"
   ]
  },
  {
   "cell_type": "code",
   "execution_count": 10,
   "id": "fc051231-a8c2-4199-bf18-5656a3f364a6",
   "metadata": {},
   "outputs": [
    {
     "data": {
      "text/plain": [
       "np.float64(3.4636666666666662)"
      ]
     },
     "execution_count": 10,
     "metadata": {},
     "output_type": "execute_result"
    }
   ],
   "source": [
    "np.mean(df.iloc[:, 1:5])"
   ]
  },
  {
   "cell_type": "code",
   "execution_count": 11,
   "id": "ced3095b-4984-4f67-8353-efbb0c286922",
   "metadata": {},
   "outputs": [
    {
     "data": {
      "text/plain": [
       "np.float64(3.2)"
      ]
     },
     "execution_count": 11,
     "metadata": {},
     "output_type": "execute_result"
    }
   ],
   "source": [
    "np.median(df.iloc[:, 1:5])"
   ]
  },
  {
   "cell_type": "code",
   "execution_count": 12,
   "id": "05802d8f-5c42-4138-a99a-2f152ad314d5",
   "metadata": {},
   "outputs": [
    {
     "name": "stderr",
     "output_type": "stream",
     "text": [
      "C:\\Users\\DELL\\AppData\\Local\\Programs\\Python\\Python311\\Lib\\site-packages\\numpy\\_core\\fromnumeric.py:4109: FutureWarning: The behavior of DataFrame.std with axis=None is deprecated, in a future version this will reduce over both axes and return a scalar. To retain the old behavior, pass axis=0 (or do not pass axis)\n",
      "  return std(axis=axis, dtype=dtype, out=out, ddof=ddof, **kwargs)\n"
     ]
    },
    {
     "data": {
      "text/plain": [
       "SepalLengthCm    0.825301\n",
       "SepalWidthCm     0.432147\n",
       "PetalLengthCm    1.758529\n",
       "PetalWidthCm     0.760613\n",
       "dtype: float64"
      ]
     },
     "execution_count": 12,
     "metadata": {},
     "output_type": "execute_result"
    }
   ],
   "source": [
    "np.std(df.iloc[:, 1:5])"
   ]
  },
  {
   "cell_type": "code",
   "execution_count": 13,
   "id": "8fa59eb4-d478-4533-b7f3-eb20290efd5f",
   "metadata": {},
   "outputs": [
    {
     "name": "stderr",
     "output_type": "stream",
     "text": [
      "C:\\Users\\DELL\\AppData\\Local\\Programs\\Python\\Python311\\Lib\\site-packages\\numpy\\_core\\fromnumeric.py:4316: FutureWarning: The behavior of DataFrame.var with axis=None is deprecated, in a future version this will reduce over both axes and return a scalar. To retain the old behavior, pass axis=0 (or do not pass axis)\n",
      "  return var(axis=axis, dtype=dtype, out=out, ddof=ddof, **kwargs)\n"
     ]
    },
    {
     "data": {
      "text/plain": [
       "SepalLengthCm    0.681122\n",
       "SepalWidthCm     0.186751\n",
       "PetalLengthCm    3.092425\n",
       "PetalWidthCm     0.578532\n",
       "dtype: float64"
      ]
     },
     "execution_count": 13,
     "metadata": {},
     "output_type": "execute_result"
    }
   ],
   "source": [
    "np.var(df.iloc[:, 1:5])"
   ]
  },
  {
   "cell_type": "code",
   "execution_count": null,
   "id": "0ca00f07-3555-4c31-b8b1-02fb91684a01",
   "metadata": {},
   "outputs": [],
   "source": []
  }
 ],
 "metadata": {
  "kernelspec": {
   "display_name": "Python 3 (ipykernel)",
   "language": "python",
   "name": "python3"
  },
  "language_info": {
   "codemirror_mode": {
    "name": "ipython",
    "version": 3
   },
   "file_extension": ".py",
   "mimetype": "text/x-python",
   "name": "python",
   "nbconvert_exporter": "python",
   "pygments_lexer": "ipython3",
   "version": "3.11.9"
  }
 },
 "nbformat": 4,
 "nbformat_minor": 5
}
