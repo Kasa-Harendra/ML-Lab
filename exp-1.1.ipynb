{
 "cells": [
  {
   "cell_type": "code",
   "execution_count": 1,
   "id": "db5352f3-5272-4927-9e0e-1d92f9cad943",
   "metadata": {},
   "outputs": [],
   "source": [
    "import pandas as pd\n",
    "import numpy as np"
   ]
  },
  {
   "cell_type": "code",
   "execution_count": 2,
   "id": "f70d7c36-26cb-4836-af6c-95da4424c6cf",
   "metadata": {},
   "outputs": [
    {
     "data": {
      "text/html": [
       "<div>\n",
       "<style scoped>\n",
       "    .dataframe tbody tr th:only-of-type {\n",
       "        vertical-align: middle;\n",
       "    }\n",
       "\n",
       "    .dataframe tbody tr th {\n",
       "        vertical-align: top;\n",
       "    }\n",
       "\n",
       "    .dataframe thead th {\n",
       "        text-align: right;\n",
       "    }\n",
       "</style>\n",
       "<table border=\"1\" class=\"dataframe\">\n",
       "  <thead>\n",
       "    <tr style=\"text-align: right;\">\n",
       "      <th></th>\n",
       "      <th>Id</th>\n",
       "      <th>SepalLengthCm</th>\n",
       "      <th>SepalWidthCm</th>\n",
       "      <th>PetalLengthCm</th>\n",
       "      <th>PetalWidthCm</th>\n",
       "      <th>Species</th>\n",
       "    </tr>\n",
       "  </thead>\n",
       "  <tbody>\n",
       "    <tr>\n",
       "      <th>0</th>\n",
       "      <td>1</td>\n",
       "      <td>5.1</td>\n",
       "      <td>3.5</td>\n",
       "      <td>1.4</td>\n",
       "      <td>0.2</td>\n",
       "      <td>Iris-setosa</td>\n",
       "    </tr>\n",
       "    <tr>\n",
       "      <th>1</th>\n",
       "      <td>2</td>\n",
       "      <td>4.9</td>\n",
       "      <td>3.0</td>\n",
       "      <td>1.4</td>\n",
       "      <td>0.2</td>\n",
       "      <td>Iris-setosa</td>\n",
       "    </tr>\n",
       "    <tr>\n",
       "      <th>2</th>\n",
       "      <td>3</td>\n",
       "      <td>4.7</td>\n",
       "      <td>3.2</td>\n",
       "      <td>1.3</td>\n",
       "      <td>0.2</td>\n",
       "      <td>Iris-setosa</td>\n",
       "    </tr>\n",
       "    <tr>\n",
       "      <th>3</th>\n",
       "      <td>4</td>\n",
       "      <td>4.6</td>\n",
       "      <td>3.1</td>\n",
       "      <td>1.5</td>\n",
       "      <td>0.2</td>\n",
       "      <td>Iris-setosa</td>\n",
       "    </tr>\n",
       "    <tr>\n",
       "      <th>4</th>\n",
       "      <td>5</td>\n",
       "      <td>5.0</td>\n",
       "      <td>3.6</td>\n",
       "      <td>1.4</td>\n",
       "      <td>0.2</td>\n",
       "      <td>Iris-setosa</td>\n",
       "    </tr>\n",
       "  </tbody>\n",
       "</table>\n",
       "</div>"
      ],
      "text/plain": [
       "   Id  SepalLengthCm  SepalWidthCm  PetalLengthCm  PetalWidthCm      Species\n",
       "0   1            5.1           3.5            1.4           0.2  Iris-setosa\n",
       "1   2            4.9           3.0            1.4           0.2  Iris-setosa\n",
       "2   3            4.7           3.2            1.3           0.2  Iris-setosa\n",
       "3   4            4.6           3.1            1.5           0.2  Iris-setosa\n",
       "4   5            5.0           3.6            1.4           0.2  Iris-setosa"
      ]
     },
     "execution_count": 2,
     "metadata": {},
     "output_type": "execute_result"
    }
   ],
   "source": [
    "df = pd.read_csv('iris.csv')\n",
    "df.head()"
   ]
  },
  {
   "cell_type": "code",
   "execution_count": 3,
   "id": "5fa5a231-2669-403d-bdb7-521a8a6c9a54",
   "metadata": {},
   "outputs": [
    {
     "data": {
      "text/plain": [
       "Index(['Id', 'SepalLengthCm', 'SepalWidthCm', 'PetalLengthCm', 'PetalWidthCm',\n",
       "       'Species'],\n",
       "      dtype='object')"
      ]
     },
     "execution_count": 3,
     "metadata": {},
     "output_type": "execute_result"
    }
   ],
   "source": [
    "df.columns"
   ]
  },
  {
   "cell_type": "code",
   "execution_count": 4,
   "id": "fe60f252-f47c-4698-8ca8-47c7d3db2bea",
   "metadata": {},
   "outputs": [
    {
     "data": {
      "text/plain": [
       "(150, 6)"
      ]
     },
     "execution_count": 4,
     "metadata": {},
     "output_type": "execute_result"
    }
   ],
   "source": [
    "df.shape"
   ]
  },
  {
   "cell_type": "code",
   "execution_count": 5,
   "id": "aca46157-b940-41fd-b7d6-5614a7e85aae",
   "metadata": {},
   "outputs": [
    {
     "name": "stdout",
     "output_type": "stream",
     "text": [
      "------------------------------------------------------------\n",
      "SepalLengthCm \n",
      "\n",
      "Mean : 5.843333333333334\n",
      "Median : 5.8\n",
      "Mode : 0    5.0\n",
      "Name: SepalLengthCm, dtype: float64\n",
      "Standard deviation : 0.828066127977863\n",
      "Variance : 0.6856935123042507\n",
      "Min : 4.3\n",
      "Max: 7.9\n",
      "Sum : 876.5\n",
      "------------------------------------------------------------\n",
      "SepalWidthCm \n",
      "\n",
      "Mean : 3.0540000000000003\n",
      "Median : 3.0\n",
      "Mode : 0    3.0\n",
      "Name: SepalWidthCm, dtype: float64\n",
      "Standard deviation : 0.4335943113621737\n",
      "Variance : 0.1880040268456376\n",
      "Min : 2.0\n",
      "Max: 4.4\n",
      "Sum : 458.1\n",
      "------------------------------------------------------------\n",
      "PetalLengthCm \n",
      "\n",
      "Mean : 3.758666666666666\n",
      "Median : 4.35\n",
      "Mode : 0    1.5\n",
      "Name: PetalLengthCm, dtype: float64\n",
      "Standard deviation : 1.7644204199522626\n",
      "Variance : 3.113179418344519\n",
      "Min : 1.0\n",
      "Max: 6.9\n",
      "Sum : 563.8\n",
      "------------------------------------------------------------\n",
      "PetalWidthCm \n",
      "\n",
      "Mean : 1.1986666666666668\n",
      "Median : 1.3\n",
      "Mode : 0    0.2\n",
      "Name: PetalWidthCm, dtype: float64\n",
      "Standard deviation : 0.7631607417008411\n",
      "Variance : 0.582414317673378\n",
      "Min : 0.1\n",
      "Max: 2.5\n",
      "Sum : 179.8\n"
     ]
    }
   ],
   "source": [
    "for column in list(df.columns)[1:5]:\n",
    "    print('------------------------------------------------------------')\n",
    "    print(f'{column} \\n')\n",
    "    print(f'Mean : {df[column].mean()}')\n",
    "    print(f'Median : {df[column].median()}')\n",
    "    print(f'Mode : {df[column].mode()}')\n",
    "    print(f'Standard deviation : {df[column].std()}')\n",
    "    print(f'Variance : {df[column].var()}')\n",
    "    print(f'Min : {df[column].min()}')\n",
    "    print(f'Max: {df[column].max()}')\n",
    "    print(f'Sum : {df[column].sum()}')\n",
    "    #print('------------------------------------------------------------')"
   ]
  },
  {
   "cell_type": "code",
   "execution_count": 6,
   "id": "9ee73a98-a76e-4f97-adbc-4fb2908c171f",
   "metadata": {},
   "outputs": [
    {
     "name": "stdout",
     "output_type": "stream",
     "text": [
      "------------------------------------------------------------\n",
      "SepalLengthCm \n",
      "\n",
      "Mean : 5.843333333333334\n",
      "Median : 5.8\n",
      "Variance : 0.6811222222222223\n",
      "Standard Deviation : 0.8253012917851409\n",
      "------------------------------------------------------------\n",
      "SepalWidthCm \n",
      "\n",
      "Mean : 3.0540000000000003\n",
      "Median : 3.0\n",
      "Variance : 0.18675066666666668\n",
      "Standard Deviation : 0.4321465800705435\n",
      "------------------------------------------------------------\n",
      "PetalLengthCm \n",
      "\n",
      "Mean : 3.758666666666666\n",
      "Median : 4.35\n",
      "Variance : 3.092424888888889\n",
      "Standard Deviation : 1.7585291834055212\n",
      "------------------------------------------------------------\n",
      "PetalWidthCm \n",
      "\n",
      "Mean : 1.1986666666666668\n",
      "Median : 1.3\n",
      "Variance : 0.5785315555555555\n",
      "Standard Deviation : 0.7606126185881716\n"
     ]
    }
   ],
   "source": [
    "for column in list(df.columns)[1:5]:\n",
    "    print('------------------------------------------------------------')\n",
    "    print(f'{column} \\n')\n",
    "    print(f'Mean : {np.mean(df[column])}')\n",
    "    print(f'Median : {np.median(df[column])}')\n",
    "    #print(f'Mode of column {column}: {np.mode(df[column])}')\n",
    "    print(f'Variance : {np.var(df[column])}')\n",
    "    print(f'Standard Deviation : {np.std(df[column])}')\n",
    "    #print('--------------------------------------------------------------')"
   ]
  },
  {
   "cell_type": "code",
   "execution_count": 7,
   "id": "ea4b061e-39e0-4e40-aa24-5ea8b7c6d9c4",
   "metadata": {},
   "outputs": [
    {
     "data": {
      "text/plain": [
       "np.float64(5.843333333333334)"
      ]
     },
     "execution_count": 7,
     "metadata": {},
     "output_type": "execute_result"
    }
   ],
   "source": [
    "np.mean(df['SepalLengthCm'])"
   ]
  },
  {
   "cell_type": "code",
   "execution_count": 8,
   "id": "d00c2e23-502c-48e0-9587-101fe778c42c",
   "metadata": {},
   "outputs": [
    {
     "data": {
      "text/plain": [
       "np.float64(5.8)"
      ]
     },
     "execution_count": 8,
     "metadata": {},
     "output_type": "execute_result"
    }
   ],
   "source": [
    "np.median(df['SepalLengthCm'])"
   ]
  },
  {
   "cell_type": "code",
   "execution_count": 9,
   "id": "d855e449-1dd3-42a5-85d6-e95c6bd540bb",
   "metadata": {},
   "outputs": [
    {
     "data": {
      "text/plain": [
       "np.float64(5.843333333333334)"
      ]
     },
     "execution_count": 9,
     "metadata": {},
     "output_type": "execute_result"
    }
   ],
   "source": [
    "df['SepalLengthCm'].mean()"
   ]
  },
  {
   "cell_type": "code",
   "execution_count": 10,
   "id": "4cb09bcf-2839-4bd6-b102-863323b7d2ae",
   "metadata": {},
   "outputs": [
    {
     "data": {
      "text/plain": [
       "SepalLengthCm    5.843333\n",
       "SepalWidthCm     3.054000\n",
       "PetalLengthCm    3.758667\n",
       "PetalWidthCm     1.198667\n",
       "dtype: float64"
      ]
     },
     "execution_count": 10,
     "metadata": {},
     "output_type": "execute_result"
    }
   ],
   "source": [
    "df.iloc[:, 1:5].mean()"
   ]
  },
  {
   "cell_type": "markdown",
   "id": "b45e0a6b-1130-4e2e-8385-96cf98848a3d",
   "metadata": {},
   "source": [
    "### Mean, Median, SD accross the dataset"
   ]
  },
  {
   "cell_type": "code",
   "execution_count": 11,
   "id": "fc051231-a8c2-4199-bf18-5656a3f364a6",
   "metadata": {},
   "outputs": [
    {
     "data": {
      "text/plain": [
       "np.float64(2.46)"
      ]
     },
     "execution_count": 11,
     "metadata": {},
     "output_type": "execute_result"
    }
   ],
   "source": [
    "np.mean(df.iloc[:10, 1:-1])"
   ]
  },
  {
   "cell_type": "code",
   "execution_count": 12,
   "id": "ced3095b-4984-4f67-8353-efbb0c286922",
   "metadata": {},
   "outputs": [
    {
     "data": {
      "text/plain": [
       "np.float64(2.3)"
      ]
     },
     "execution_count": 12,
     "metadata": {},
     "output_type": "execute_result"
    }
   ],
   "source": [
    "np.median(df.iloc[:10, 1:5])"
   ]
  },
  {
   "cell_type": "code",
   "execution_count": 13,
   "id": "05802d8f-5c42-4138-a99a-2f152ad314d5",
   "metadata": {},
   "outputs": [
    {
     "name": "stderr",
     "output_type": "stream",
     "text": [
      "C:\\Users\\DELL\\AppData\\Local\\Programs\\Python\\Python311\\Lib\\site-packages\\numpy\\_core\\fromnumeric.py:4062: FutureWarning: The behavior of DataFrame.std with axis=None is deprecated, in a future version this will reduce over both axes and return a scalar. To retain the old behavior, pass axis=0 (or do not pass axis)\n",
      "  return std(axis=axis, dtype=dtype, out=out, ddof=ddof, **kwargs)\n"
     ]
    },
    {
     "data": {
      "text/plain": [
       "SepalLengthCm    0.825301\n",
       "SepalWidthCm     0.432147\n",
       "PetalLengthCm    1.758529\n",
       "PetalWidthCm     0.760613\n",
       "dtype: float64"
      ]
     },
     "execution_count": 13,
     "metadata": {},
     "output_type": "execute_result"
    }
   ],
   "source": [
    "np.std(df.iloc[:, 1:5])"
   ]
  },
  {
   "cell_type": "code",
   "execution_count": 14,
   "id": "8fa59eb4-d478-4533-b7f3-eb20290efd5f",
   "metadata": {},
   "outputs": [
    {
     "name": "stderr",
     "output_type": "stream",
     "text": [
      "C:\\Users\\DELL\\AppData\\Local\\Programs\\Python\\Python311\\Lib\\site-packages\\numpy\\_core\\fromnumeric.py:4266: FutureWarning: The behavior of DataFrame.var with axis=None is deprecated, in a future version this will reduce over both axes and return a scalar. To retain the old behavior, pass axis=0 (or do not pass axis)\n",
      "  return var(axis=axis, dtype=dtype, out=out, ddof=ddof, **kwargs)\n"
     ]
    },
    {
     "data": {
      "text/plain": [
       "SepalLengthCm    0.681122\n",
       "SepalWidthCm     0.186751\n",
       "PetalLengthCm    3.092425\n",
       "PetalWidthCm     0.578532\n",
       "dtype: float64"
      ]
     },
     "execution_count": 14,
     "metadata": {},
     "output_type": "execute_result"
    }
   ],
   "source": [
    "np.var(df.iloc[:, 1:5])"
   ]
  },
  {
   "cell_type": "code",
   "execution_count": 15,
   "id": "0ca00f07-3555-4c31-b8b1-02fb91684a01",
   "metadata": {},
   "outputs": [
    {
     "data": {
      "text/plain": [
       "np.float64(5.843333333333334)"
      ]
     },
     "execution_count": 15,
     "metadata": {},
     "output_type": "execute_result"
    }
   ],
   "source": [
    "df['SepalLengthCm'].mean()"
   ]
  },
  {
   "cell_type": "code",
   "execution_count": 16,
   "id": "f84dbd4b-d3df-4206-8b15-585242de9a5e",
   "metadata": {},
   "outputs": [
    {
     "data": {
      "text/plain": [
       "np.float64(5.8)"
      ]
     },
     "execution_count": 16,
     "metadata": {},
     "output_type": "execute_result"
    }
   ],
   "source": [
    "df['SepalLengthCm'].median()"
   ]
  },
  {
   "cell_type": "code",
   "execution_count": 17,
   "id": "e4d31ecb-05ce-43a7-adca-44a545f97c04",
   "metadata": {},
   "outputs": [
    {
     "data": {
      "text/plain": [
       "0    5.0\n",
       "Name: SepalLengthCm, dtype: float64"
      ]
     },
     "execution_count": 17,
     "metadata": {},
     "output_type": "execute_result"
    }
   ],
   "source": [
    "df['SepalLengthCm'].mode()"
   ]
  },
  {
   "cell_type": "code",
   "execution_count": 18,
   "id": "c420d944-8385-4d1b-bcff-a4d551d580f8",
   "metadata": {},
   "outputs": [
    {
     "data": {
      "text/plain": [
       "np.float64(0.828066127977863)"
      ]
     },
     "execution_count": 18,
     "metadata": {},
     "output_type": "execute_result"
    }
   ],
   "source": [
    "df['SepalLengthCm'].std()"
   ]
  },
  {
   "cell_type": "code",
   "execution_count": 19,
   "id": "0af8994c-5303-4f52-a30f-d54dc961d12e",
   "metadata": {},
   "outputs": [
    {
     "data": {
      "text/plain": [
       "np.float64(0.6856935123042507)"
      ]
     },
     "execution_count": 19,
     "metadata": {},
     "output_type": "execute_result"
    }
   ],
   "source": [
    "df['SepalLengthCm'].var()"
   ]
  },
  {
   "cell_type": "code",
   "execution_count": 23,
   "id": "1f894db5-24f3-4d7f-987b-7456fdf31d32",
   "metadata": {},
   "outputs": [
    {
     "name": "stdout",
     "output_type": "stream",
     "text": [
      "<Compressed Sparse Row sparse matrix of dtype 'float64'\n",
      "\twith 2 stored elements and shape (4, 2)>\n",
      "  Coords\tValues\n",
      "  (1, 1)\t1.0\n",
      "  (2, 0)\t1.0\n"
     ]
    }
   ],
   "source": [
    "from sklearn.preprocessing import OneHotEncoder\n",
    "\n",
    "# Reshape data to fit the encoder input\n",
    "\n",
    "categories = [['apple'], ['orange'], ['banana'], ['apple']]\n",
    "\n",
    "encoder = OneHotEncoder(drop=\"first\")\n",
    "\n",
    "# Transform categories\n",
    "\n",
    "encoded_categories = encoder.fit_transform(categories)\n",
    "\n",
    "print(encoded_categories)"
   ]
  },
  {
   "cell_type": "code",
   "execution_count": 31,
   "id": "a3a9339a-b91e-419a-8489-eda9c1a55a6e",
   "metadata": {},
   "outputs": [],
   "source": [
    "def one_hot_encode(dataset, col: str):\n",
    "    from sklearn.preprocessing import OneHotEncoder\n",
    "    import pandas as pd\n",
    "    ohe = OneHotEncoder(drop=\"first\")\n",
    "    dataset[col+\"_ohe\"] = ohe.fit_transform(dataset[[col]]).toarray()[:, :-1]\n",
    "\n",
    "    return dataset"
   ]
  },
  {
   "cell_type": "code",
   "execution_count": 32,
   "id": "25e6f046-a102-4b87-b49c-54df35e843ff",
   "metadata": {},
   "outputs": [
    {
     "data": {
      "text/html": [
       "<div>\n",
       "<style scoped>\n",
       "    .dataframe tbody tr th:only-of-type {\n",
       "        vertical-align: middle;\n",
       "    }\n",
       "\n",
       "    .dataframe tbody tr th {\n",
       "        vertical-align: top;\n",
       "    }\n",
       "\n",
       "    .dataframe thead th {\n",
       "        text-align: right;\n",
       "    }\n",
       "</style>\n",
       "<table border=\"1\" class=\"dataframe\">\n",
       "  <thead>\n",
       "    <tr style=\"text-align: right;\">\n",
       "      <th></th>\n",
       "      <th>StudyTime</th>\n",
       "      <th>PastFailures</th>\n",
       "      <th>Absences</th>\n",
       "      <th>PreviousScores</th>\n",
       "      <th>PerformanceLevel</th>\n",
       "    </tr>\n",
       "  </thead>\n",
       "  <tbody>\n",
       "    <tr>\n",
       "      <th>0</th>\n",
       "      <td>10</td>\n",
       "      <td>0</td>\n",
       "      <td>2</td>\n",
       "      <td>85</td>\n",
       "      <td>High</td>\n",
       "    </tr>\n",
       "    <tr>\n",
       "      <th>1</th>\n",
       "      <td>5</td>\n",
       "      <td>1</td>\n",
       "      <td>5</td>\n",
       "      <td>65</td>\n",
       "      <td>Medium</td>\n",
       "    </tr>\n",
       "    <tr>\n",
       "      <th>2</th>\n",
       "      <td>2</td>\n",
       "      <td>3</td>\n",
       "      <td>10</td>\n",
       "      <td>40</td>\n",
       "      <td>Low</td>\n",
       "    </tr>\n",
       "    <tr>\n",
       "      <th>3</th>\n",
       "      <td>8</td>\n",
       "      <td>0</td>\n",
       "      <td>3</td>\n",
       "      <td>78</td>\n",
       "      <td>High</td>\n",
       "    </tr>\n",
       "    <tr>\n",
       "      <th>4</th>\n",
       "      <td>6</td>\n",
       "      <td>2</td>\n",
       "      <td>6</td>\n",
       "      <td>60</td>\n",
       "      <td>Medium</td>\n",
       "    </tr>\n",
       "  </tbody>\n",
       "</table>\n",
       "</div>"
      ],
      "text/plain": [
       "   StudyTime  PastFailures  Absences  PreviousScores PerformanceLevel\n",
       "0         10             0         2              85             High\n",
       "1          5             1         5              65           Medium\n",
       "2          2             3        10              40              Low\n",
       "3          8             0         3              78             High\n",
       "4          6             2         6              60           Medium"
      ]
     },
     "execution_count": 32,
     "metadata": {},
     "output_type": "execute_result"
    }
   ],
   "source": [
    "dataset = pd.read_csv(\"student_performance.csv\")\n",
    "dataset.head()"
   ]
  },
  {
   "cell_type": "code",
   "execution_count": 33,
   "id": "4dfd2f19-4a8d-44b3-9538-cfdb1c5c254f",
   "metadata": {},
   "outputs": [],
   "source": [
    "dataset = one_hot_encode(dataset, \"PerformanceLevel\")"
   ]
  },
  {
   "cell_type": "code",
   "execution_count": 34,
   "id": "44497dd8-430b-4ebc-8af4-5b51ddbc58d9",
   "metadata": {},
   "outputs": [
    {
     "data": {
      "text/html": [
       "<div>\n",
       "<style scoped>\n",
       "    .dataframe tbody tr th:only-of-type {\n",
       "        vertical-align: middle;\n",
       "    }\n",
       "\n",
       "    .dataframe tbody tr th {\n",
       "        vertical-align: top;\n",
       "    }\n",
       "\n",
       "    .dataframe thead th {\n",
       "        text-align: right;\n",
       "    }\n",
       "</style>\n",
       "<table border=\"1\" class=\"dataframe\">\n",
       "  <thead>\n",
       "    <tr style=\"text-align: right;\">\n",
       "      <th></th>\n",
       "      <th>StudyTime</th>\n",
       "      <th>PastFailures</th>\n",
       "      <th>Absences</th>\n",
       "      <th>PreviousScores</th>\n",
       "      <th>PerformanceLevel</th>\n",
       "      <th>PerformanceLevel_ohe</th>\n",
       "    </tr>\n",
       "  </thead>\n",
       "  <tbody>\n",
       "    <tr>\n",
       "      <th>0</th>\n",
       "      <td>10</td>\n",
       "      <td>0</td>\n",
       "      <td>2</td>\n",
       "      <td>85</td>\n",
       "      <td>High</td>\n",
       "      <td>0.0</td>\n",
       "    </tr>\n",
       "    <tr>\n",
       "      <th>1</th>\n",
       "      <td>5</td>\n",
       "      <td>1</td>\n",
       "      <td>5</td>\n",
       "      <td>65</td>\n",
       "      <td>Medium</td>\n",
       "      <td>0.0</td>\n",
       "    </tr>\n",
       "    <tr>\n",
       "      <th>2</th>\n",
       "      <td>2</td>\n",
       "      <td>3</td>\n",
       "      <td>10</td>\n",
       "      <td>40</td>\n",
       "      <td>Low</td>\n",
       "      <td>1.0</td>\n",
       "    </tr>\n",
       "    <tr>\n",
       "      <th>3</th>\n",
       "      <td>8</td>\n",
       "      <td>0</td>\n",
       "      <td>3</td>\n",
       "      <td>78</td>\n",
       "      <td>High</td>\n",
       "      <td>0.0</td>\n",
       "    </tr>\n",
       "    <tr>\n",
       "      <th>4</th>\n",
       "      <td>6</td>\n",
       "      <td>2</td>\n",
       "      <td>6</td>\n",
       "      <td>60</td>\n",
       "      <td>Medium</td>\n",
       "      <td>0.0</td>\n",
       "    </tr>\n",
       "  </tbody>\n",
       "</table>\n",
       "</div>"
      ],
      "text/plain": [
       "   StudyTime  PastFailures  Absences  PreviousScores PerformanceLevel  \\\n",
       "0         10             0         2              85             High   \n",
       "1          5             1         5              65           Medium   \n",
       "2          2             3        10              40              Low   \n",
       "3          8             0         3              78             High   \n",
       "4          6             2         6              60           Medium   \n",
       "\n",
       "   PerformanceLevel_ohe  \n",
       "0                   0.0  \n",
       "1                   0.0  \n",
       "2                   1.0  \n",
       "3                   0.0  \n",
       "4                   0.0  "
      ]
     },
     "execution_count": 34,
     "metadata": {},
     "output_type": "execute_result"
    }
   ],
   "source": [
    "dataset.head()"
   ]
  },
  {
   "cell_type": "code",
   "execution_count": null,
   "id": "fa8035a5-1d47-4e7c-b66c-6f8c951164e1",
   "metadata": {},
   "outputs": [],
   "source": []
  }
 ],
 "metadata": {
  "kernelspec": {
   "display_name": "Python 3 (ipykernel)",
   "language": "python",
   "name": "python3"
  },
  "language_info": {
   "codemirror_mode": {
    "name": "ipython",
    "version": 3
   },
   "file_extension": ".py",
   "mimetype": "text/x-python",
   "name": "python",
   "nbconvert_exporter": "python",
   "pygments_lexer": "ipython3",
   "version": "3.11.9"
  }
 },
 "nbformat": 4,
 "nbformat_minor": 5
}
