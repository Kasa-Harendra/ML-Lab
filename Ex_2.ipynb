{
 "cells": [
  {
   "cell_type": "code",
   "execution_count": 1,
   "id": "51ba4828-ee6f-4158-b08f-2ebd6f857d21",
   "metadata": {},
   "outputs": [],
   "source": [
    "import pandas as pd\n",
    "import numpy as np"
   ]
  },
  {
   "cell_type": "code",
   "execution_count": 2,
   "id": "574a391a-a9e8-4fcc-be7e-fda66eeabb01",
   "metadata": {},
   "outputs": [
    {
     "ename": "FileNotFoundError",
     "evalue": "[Errno 2] No such file or directory: 'New.csv'",
     "output_type": "error",
     "traceback": [
      "\u001b[31m---------------------------------------------------------------------------\u001b[39m",
      "\u001b[31mFileNotFoundError\u001b[39m                         Traceback (most recent call last)",
      "\u001b[36mCell\u001b[39m\u001b[36m \u001b[39m\u001b[32mIn[2]\u001b[39m\u001b[32m, line 1\u001b[39m\n\u001b[32m----> \u001b[39m\u001b[32m1\u001b[39m df=\u001b[43mpd\u001b[49m\u001b[43m.\u001b[49m\u001b[43mread_csv\u001b[49m\u001b[43m(\u001b[49m\u001b[33;43m\"\u001b[39;49m\u001b[33;43mNew.csv\u001b[39;49m\u001b[33;43m\"\u001b[39;49m\u001b[43m)\u001b[49m\n\u001b[32m      2\u001b[39m df.shape\n",
      "\u001b[36mFile \u001b[39m\u001b[32mc:\\Users\\DELL\\AppData\\Local\\Programs\\Python\\Python311\\Lib\\site-packages\\pandas\\io\\parsers\\readers.py:1026\u001b[39m, in \u001b[36mread_csv\u001b[39m\u001b[34m(filepath_or_buffer, sep, delimiter, header, names, index_col, usecols, dtype, engine, converters, true_values, false_values, skipinitialspace, skiprows, skipfooter, nrows, na_values, keep_default_na, na_filter, verbose, skip_blank_lines, parse_dates, infer_datetime_format, keep_date_col, date_parser, date_format, dayfirst, cache_dates, iterator, chunksize, compression, thousands, decimal, lineterminator, quotechar, quoting, doublequote, escapechar, comment, encoding, encoding_errors, dialect, on_bad_lines, delim_whitespace, low_memory, memory_map, float_precision, storage_options, dtype_backend)\u001b[39m\n\u001b[32m   1013\u001b[39m kwds_defaults = _refine_defaults_read(\n\u001b[32m   1014\u001b[39m     dialect,\n\u001b[32m   1015\u001b[39m     delimiter,\n\u001b[32m   (...)\u001b[39m\u001b[32m   1022\u001b[39m     dtype_backend=dtype_backend,\n\u001b[32m   1023\u001b[39m )\n\u001b[32m   1024\u001b[39m kwds.update(kwds_defaults)\n\u001b[32m-> \u001b[39m\u001b[32m1026\u001b[39m \u001b[38;5;28;01mreturn\u001b[39;00m \u001b[43m_read\u001b[49m\u001b[43m(\u001b[49m\u001b[43mfilepath_or_buffer\u001b[49m\u001b[43m,\u001b[49m\u001b[43m \u001b[49m\u001b[43mkwds\u001b[49m\u001b[43m)\u001b[49m\n",
      "\u001b[36mFile \u001b[39m\u001b[32mc:\\Users\\DELL\\AppData\\Local\\Programs\\Python\\Python311\\Lib\\site-packages\\pandas\\io\\parsers\\readers.py:620\u001b[39m, in \u001b[36m_read\u001b[39m\u001b[34m(filepath_or_buffer, kwds)\u001b[39m\n\u001b[32m    617\u001b[39m _validate_names(kwds.get(\u001b[33m\"\u001b[39m\u001b[33mnames\u001b[39m\u001b[33m\"\u001b[39m, \u001b[38;5;28;01mNone\u001b[39;00m))\n\u001b[32m    619\u001b[39m \u001b[38;5;66;03m# Create the parser.\u001b[39;00m\n\u001b[32m--> \u001b[39m\u001b[32m620\u001b[39m parser = \u001b[43mTextFileReader\u001b[49m\u001b[43m(\u001b[49m\u001b[43mfilepath_or_buffer\u001b[49m\u001b[43m,\u001b[49m\u001b[43m \u001b[49m\u001b[43m*\u001b[49m\u001b[43m*\u001b[49m\u001b[43mkwds\u001b[49m\u001b[43m)\u001b[49m\n\u001b[32m    622\u001b[39m \u001b[38;5;28;01mif\u001b[39;00m chunksize \u001b[38;5;129;01mor\u001b[39;00m iterator:\n\u001b[32m    623\u001b[39m     \u001b[38;5;28;01mreturn\u001b[39;00m parser\n",
      "\u001b[36mFile \u001b[39m\u001b[32mc:\\Users\\DELL\\AppData\\Local\\Programs\\Python\\Python311\\Lib\\site-packages\\pandas\\io\\parsers\\readers.py:1620\u001b[39m, in \u001b[36mTextFileReader.__init__\u001b[39m\u001b[34m(self, f, engine, **kwds)\u001b[39m\n\u001b[32m   1617\u001b[39m     \u001b[38;5;28mself\u001b[39m.options[\u001b[33m\"\u001b[39m\u001b[33mhas_index_names\u001b[39m\u001b[33m\"\u001b[39m] = kwds[\u001b[33m\"\u001b[39m\u001b[33mhas_index_names\u001b[39m\u001b[33m\"\u001b[39m]\n\u001b[32m   1619\u001b[39m \u001b[38;5;28mself\u001b[39m.handles: IOHandles | \u001b[38;5;28;01mNone\u001b[39;00m = \u001b[38;5;28;01mNone\u001b[39;00m\n\u001b[32m-> \u001b[39m\u001b[32m1620\u001b[39m \u001b[38;5;28mself\u001b[39m._engine = \u001b[38;5;28;43mself\u001b[39;49m\u001b[43m.\u001b[49m\u001b[43m_make_engine\u001b[49m\u001b[43m(\u001b[49m\u001b[43mf\u001b[49m\u001b[43m,\u001b[49m\u001b[43m \u001b[49m\u001b[38;5;28;43mself\u001b[39;49m\u001b[43m.\u001b[49m\u001b[43mengine\u001b[49m\u001b[43m)\u001b[49m\n",
      "\u001b[36mFile \u001b[39m\u001b[32mc:\\Users\\DELL\\AppData\\Local\\Programs\\Python\\Python311\\Lib\\site-packages\\pandas\\io\\parsers\\readers.py:1880\u001b[39m, in \u001b[36mTextFileReader._make_engine\u001b[39m\u001b[34m(self, f, engine)\u001b[39m\n\u001b[32m   1878\u001b[39m     \u001b[38;5;28;01mif\u001b[39;00m \u001b[33m\"\u001b[39m\u001b[33mb\u001b[39m\u001b[33m\"\u001b[39m \u001b[38;5;129;01mnot\u001b[39;00m \u001b[38;5;129;01min\u001b[39;00m mode:\n\u001b[32m   1879\u001b[39m         mode += \u001b[33m\"\u001b[39m\u001b[33mb\u001b[39m\u001b[33m\"\u001b[39m\n\u001b[32m-> \u001b[39m\u001b[32m1880\u001b[39m \u001b[38;5;28mself\u001b[39m.handles = \u001b[43mget_handle\u001b[49m\u001b[43m(\u001b[49m\n\u001b[32m   1881\u001b[39m \u001b[43m    \u001b[49m\u001b[43mf\u001b[49m\u001b[43m,\u001b[49m\n\u001b[32m   1882\u001b[39m \u001b[43m    \u001b[49m\u001b[43mmode\u001b[49m\u001b[43m,\u001b[49m\n\u001b[32m   1883\u001b[39m \u001b[43m    \u001b[49m\u001b[43mencoding\u001b[49m\u001b[43m=\u001b[49m\u001b[38;5;28;43mself\u001b[39;49m\u001b[43m.\u001b[49m\u001b[43moptions\u001b[49m\u001b[43m.\u001b[49m\u001b[43mget\u001b[49m\u001b[43m(\u001b[49m\u001b[33;43m\"\u001b[39;49m\u001b[33;43mencoding\u001b[39;49m\u001b[33;43m\"\u001b[39;49m\u001b[43m,\u001b[49m\u001b[43m \u001b[49m\u001b[38;5;28;43;01mNone\u001b[39;49;00m\u001b[43m)\u001b[49m\u001b[43m,\u001b[49m\n\u001b[32m   1884\u001b[39m \u001b[43m    \u001b[49m\u001b[43mcompression\u001b[49m\u001b[43m=\u001b[49m\u001b[38;5;28;43mself\u001b[39;49m\u001b[43m.\u001b[49m\u001b[43moptions\u001b[49m\u001b[43m.\u001b[49m\u001b[43mget\u001b[49m\u001b[43m(\u001b[49m\u001b[33;43m\"\u001b[39;49m\u001b[33;43mcompression\u001b[39;49m\u001b[33;43m\"\u001b[39;49m\u001b[43m,\u001b[49m\u001b[43m \u001b[49m\u001b[38;5;28;43;01mNone\u001b[39;49;00m\u001b[43m)\u001b[49m\u001b[43m,\u001b[49m\n\u001b[32m   1885\u001b[39m \u001b[43m    \u001b[49m\u001b[43mmemory_map\u001b[49m\u001b[43m=\u001b[49m\u001b[38;5;28;43mself\u001b[39;49m\u001b[43m.\u001b[49m\u001b[43moptions\u001b[49m\u001b[43m.\u001b[49m\u001b[43mget\u001b[49m\u001b[43m(\u001b[49m\u001b[33;43m\"\u001b[39;49m\u001b[33;43mmemory_map\u001b[39;49m\u001b[33;43m\"\u001b[39;49m\u001b[43m,\u001b[49m\u001b[43m \u001b[49m\u001b[38;5;28;43;01mFalse\u001b[39;49;00m\u001b[43m)\u001b[49m\u001b[43m,\u001b[49m\n\u001b[32m   1886\u001b[39m \u001b[43m    \u001b[49m\u001b[43mis_text\u001b[49m\u001b[43m=\u001b[49m\u001b[43mis_text\u001b[49m\u001b[43m,\u001b[49m\n\u001b[32m   1887\u001b[39m \u001b[43m    \u001b[49m\u001b[43merrors\u001b[49m\u001b[43m=\u001b[49m\u001b[38;5;28;43mself\u001b[39;49m\u001b[43m.\u001b[49m\u001b[43moptions\u001b[49m\u001b[43m.\u001b[49m\u001b[43mget\u001b[49m\u001b[43m(\u001b[49m\u001b[33;43m\"\u001b[39;49m\u001b[33;43mencoding_errors\u001b[39;49m\u001b[33;43m\"\u001b[39;49m\u001b[43m,\u001b[49m\u001b[43m \u001b[49m\u001b[33;43m\"\u001b[39;49m\u001b[33;43mstrict\u001b[39;49m\u001b[33;43m\"\u001b[39;49m\u001b[43m)\u001b[49m\u001b[43m,\u001b[49m\n\u001b[32m   1888\u001b[39m \u001b[43m    \u001b[49m\u001b[43mstorage_options\u001b[49m\u001b[43m=\u001b[49m\u001b[38;5;28;43mself\u001b[39;49m\u001b[43m.\u001b[49m\u001b[43moptions\u001b[49m\u001b[43m.\u001b[49m\u001b[43mget\u001b[49m\u001b[43m(\u001b[49m\u001b[33;43m\"\u001b[39;49m\u001b[33;43mstorage_options\u001b[39;49m\u001b[33;43m\"\u001b[39;49m\u001b[43m,\u001b[49m\u001b[43m \u001b[49m\u001b[38;5;28;43;01mNone\u001b[39;49;00m\u001b[43m)\u001b[49m\u001b[43m,\u001b[49m\n\u001b[32m   1889\u001b[39m \u001b[43m\u001b[49m\u001b[43m)\u001b[49m\n\u001b[32m   1890\u001b[39m \u001b[38;5;28;01massert\u001b[39;00m \u001b[38;5;28mself\u001b[39m.handles \u001b[38;5;129;01mis\u001b[39;00m \u001b[38;5;129;01mnot\u001b[39;00m \u001b[38;5;28;01mNone\u001b[39;00m\n\u001b[32m   1891\u001b[39m f = \u001b[38;5;28mself\u001b[39m.handles.handle\n",
      "\u001b[36mFile \u001b[39m\u001b[32mc:\\Users\\DELL\\AppData\\Local\\Programs\\Python\\Python311\\Lib\\site-packages\\pandas\\io\\common.py:873\u001b[39m, in \u001b[36mget_handle\u001b[39m\u001b[34m(path_or_buf, mode, encoding, compression, memory_map, is_text, errors, storage_options)\u001b[39m\n\u001b[32m    868\u001b[39m \u001b[38;5;28;01melif\u001b[39;00m \u001b[38;5;28misinstance\u001b[39m(handle, \u001b[38;5;28mstr\u001b[39m):\n\u001b[32m    869\u001b[39m     \u001b[38;5;66;03m# Check whether the filename is to be opened in binary mode.\u001b[39;00m\n\u001b[32m    870\u001b[39m     \u001b[38;5;66;03m# Binary mode does not support 'encoding' and 'newline'.\u001b[39;00m\n\u001b[32m    871\u001b[39m     \u001b[38;5;28;01mif\u001b[39;00m ioargs.encoding \u001b[38;5;129;01mand\u001b[39;00m \u001b[33m\"\u001b[39m\u001b[33mb\u001b[39m\u001b[33m\"\u001b[39m \u001b[38;5;129;01mnot\u001b[39;00m \u001b[38;5;129;01min\u001b[39;00m ioargs.mode:\n\u001b[32m    872\u001b[39m         \u001b[38;5;66;03m# Encoding\u001b[39;00m\n\u001b[32m--> \u001b[39m\u001b[32m873\u001b[39m         handle = \u001b[38;5;28;43mopen\u001b[39;49m\u001b[43m(\u001b[49m\n\u001b[32m    874\u001b[39m \u001b[43m            \u001b[49m\u001b[43mhandle\u001b[49m\u001b[43m,\u001b[49m\n\u001b[32m    875\u001b[39m \u001b[43m            \u001b[49m\u001b[43mioargs\u001b[49m\u001b[43m.\u001b[49m\u001b[43mmode\u001b[49m\u001b[43m,\u001b[49m\n\u001b[32m    876\u001b[39m \u001b[43m            \u001b[49m\u001b[43mencoding\u001b[49m\u001b[43m=\u001b[49m\u001b[43mioargs\u001b[49m\u001b[43m.\u001b[49m\u001b[43mencoding\u001b[49m\u001b[43m,\u001b[49m\n\u001b[32m    877\u001b[39m \u001b[43m            \u001b[49m\u001b[43merrors\u001b[49m\u001b[43m=\u001b[49m\u001b[43merrors\u001b[49m\u001b[43m,\u001b[49m\n\u001b[32m    878\u001b[39m \u001b[43m            \u001b[49m\u001b[43mnewline\u001b[49m\u001b[43m=\u001b[49m\u001b[33;43m\"\u001b[39;49m\u001b[33;43m\"\u001b[39;49m\u001b[43m,\u001b[49m\n\u001b[32m    879\u001b[39m \u001b[43m        \u001b[49m\u001b[43m)\u001b[49m\n\u001b[32m    880\u001b[39m     \u001b[38;5;28;01melse\u001b[39;00m:\n\u001b[32m    881\u001b[39m         \u001b[38;5;66;03m# Binary mode\u001b[39;00m\n\u001b[32m    882\u001b[39m         handle = \u001b[38;5;28mopen\u001b[39m(handle, ioargs.mode)\n",
      "\u001b[31mFileNotFoundError\u001b[39m: [Errno 2] No such file or directory: 'New.csv'"
     ]
    }
   ],
   "source": [
    "df=pd.read_csv(\"New.csv\")\n",
    "df.shape"
   ]
  },
  {
   "cell_type": "code",
   "execution_count": null,
   "id": "4e5b99a9",
   "metadata": {},
   "outputs": [],
   "source": [
    "df"
   ]
  },
  {
   "cell_type": "code",
   "execution_count": null,
   "id": "673a87f8-7fbb-404e-9c27-1f8c8b3fd6dd",
   "metadata": {},
   "outputs": [
    {
     "data": {
      "text/plain": [
       "Country     1\n",
       "Age         1\n",
       "Salary      1\n",
       "Purchase    0\n",
       "dtype: int64"
      ]
     },
     "execution_count": 4,
     "metadata": {},
     "output_type": "execute_result"
    }
   ],
   "source": [
    "#2.Handling Missing values \n",
    "df.isnull().sum()"
   ]
  },
  {
   "cell_type": "code",
   "execution_count": null,
   "id": "15db1fff-b1d9-439e-a955-d9c86b3e0638",
   "metadata": {},
   "outputs": [
    {
     "name": "stdout",
     "output_type": "stream",
     "text": [
      "0     44.000000\n",
      "1     27.000000\n",
      "2     30.000000\n",
      "3     38.000000\n",
      "4     40.000000\n",
      "5     25.000000\n",
      "6     40.538462\n",
      "7     48.000000\n",
      "8     50.000000\n",
      "9     35.000000\n",
      "10    42.000000\n",
      "11    63.000000\n",
      "12    39.000000\n",
      "13    46.000000\n",
      "Name: Age, dtype: float64\n",
      "0     72000.000000\n",
      "1     48000.000000\n",
      "2     54000.000000\n",
      "3     61000.000000\n",
      "4     60307.692308\n",
      "5     58000.000000\n",
      "6     52000.000000\n",
      "7     79000.000000\n",
      "8     83000.000000\n",
      "9     92000.000000\n",
      "10    58000.000000\n",
      "11    32000.000000\n",
      "12    42000.000000\n",
      "13    53000.000000\n",
      "Name: Salary, dtype: float64\n"
     ]
    }
   ],
   "source": [
    "age=df['Age'].fillna(df['Age'].mean())\n",
    "salary=df['Salary'].fillna(df['Salary'].mean())\n",
    "print(age)\n",
    "print(salary)"
   ]
  },
  {
   "cell_type": "code",
   "execution_count": null,
   "id": "09ef3747-0eb1-434a-b1b6-ade4e9f49250",
   "metadata": {},
   "outputs": [
    {
     "name": "stdout",
     "output_type": "stream",
     "text": [
      "      Country   Age   Salary Purchase\n",
      "0      France  44.0  72000.0       No\n",
      "1       Spain  27.0  48000.0      Yes\n",
      "2     Germany  30.0  54000.0       No\n",
      "3       Spain  38.0  61000.0       No\n",
      "5      France  25.0  58000.0      Yes\n",
      "7      France  48.0  79000.0      Yes\n",
      "9       India  35.0  92000.0      Yes\n",
      "10    America  42.0  58000.0       No\n",
      "11     Russia  63.0  32000.0      Yes\n",
      "12     Canada  39.0  42000.0       No\n",
      "13  Australia  46.0  53000.0      Yes\n"
     ]
    }
   ],
   "source": [
    "print(df.dropna())"
   ]
  },
  {
   "cell_type": "code",
   "execution_count": null,
   "id": "091b1c2c-8c94-435d-b798-b332fdbd89b0",
   "metadata": {},
   "outputs": [
    {
     "name": "stdout",
     "output_type": "stream",
     "text": [
      "0        France\n",
      "1         Spain\n",
      "2       Germany\n",
      "3         Spain\n",
      "4       Germany\n",
      "5        France\n",
      "6         Spain\n",
      "7        France\n",
      "8        France\n",
      "9         India\n",
      "10      America\n",
      "11       Russia\n",
      "12       Canada\n",
      "13    Australia\n",
      "Name: Country, dtype: object\n"
     ]
    }
   ],
   "source": [
    "Country=df['Country'].fillna(df['Country'].mode()[0])\n",
    "print(Country)"
   ]
  },
  {
   "cell_type": "code",
   "execution_count": null,
   "id": "b1635a67-71f3-4eba-a901-51002afec96d",
   "metadata": {},
   "outputs": [
    {
     "name": "stdout",
     "output_type": "stream",
     "text": [
      "0     Middle\n",
      "1      Young\n",
      "2      Young\n",
      "3     Middle\n",
      "4     Middle\n",
      "5      Young\n",
      "6        NaN\n",
      "7     Middle\n",
      "8     Middle\n",
      "9      Young\n",
      "10    Middle\n",
      "11       Old\n",
      "12    Middle\n",
      "13    Middle\n",
      "Name: Age, dtype: category\n",
      "Categories (3, object): ['Young' < 'Middle' < 'Old']\n"
     ]
    }
   ],
   "source": [
    "#3.Discretization: \n",
    "age_bins = pd.cut(df['Age'], bins=3, labels=['Young', 'Middle', 'Old']) \n",
    "print(age_bins) "
   ]
  },
  {
   "cell_type": "code",
   "execution_count": null,
   "id": "ad0608d1-4fac-45fd-b60d-d0e613cb4021",
   "metadata": {},
   "outputs": [
    {
     "data": {
      "image/png": "[encoded data removed]",
      "text/plain": [
       "<Figure size 640x480 with 1 Axes>"
      ]
     },
     "metadata": {},
     "output_type": "display_data"
    },
    {
     "data": {
      "image/png": "[encoded data removed]",
      "text/plain": [
       "<Figure size 640x480 with 1 Axes>"
      ]
     },
     "metadata": {},
     "output_type": "display_data"
    }
   ],
   "source": [
    "#4.Outlier Detection \n",
    "import pandas as pd\n",
    "import matplotlib.pyplot as plt\n",
    "import seaborn as sns\n",
    "data = {'Age': [18, 19, 20, 21, 22, 23, 100, 25, 26, 27, 150]}  # 100 and 150 are  \n",
    "df = pd.DataFrame(data) \n",
    "sns.boxplot(x=df['Age']) \n",
    "plt.show() \n",
    "sns.histplot(x=df['Age']) \n",
    "plt.show()"
   ]
  },
  {
   "cell_type": "code",
   "execution_count": null,
   "id": "302226dc-fc6d-41d6-9f33-216b3c353c33",
   "metadata": {},
   "outputs": [],
   "source": [
    "# Calculate Q1 (25th percentile) and Q3 (75th percentile) \n",
    "Q1 = df[\"Age\"].quantile(0.25) \n",
    "Q3 = df[\"Age\"].quantile(0.75) \n",
    "IQR = Q3 - Q1"
   ]
  },
  {
   "cell_type": "code",
   "execution_count": null,
   "id": "9db4a2e8-5630-48a5-a246-d8a877a83fcc",
   "metadata": {},
   "outputs": [],
   "source": [
    "# Define lower and upper bounds \n",
    "lower_bound = Q1 - 1.5 * IQR \n",
    "upper_bound = Q3 + 1.5 * IQR "
   ]
  },
  {
   "cell_type": "code",
   "execution_count": null,
   "id": "2eeafd47-6fc0-41fd-999d-16c8741a8b83",
   "metadata": {},
   "outputs": [
    {
     "name": "stdout",
     "output_type": "stream",
     "text": [
      "Outliers:\n",
      "     Age\n",
      "6   100\n",
      "10  150\n"
     ]
    }
   ],
   "source": [
    "# Find outliers \n",
    "outliers = df[(df[\"Age\"] < lower_bound) | (df[\"Age\"] > upper_bound)] \n",
    "print(\"Outliers:\\n\", outliers) "
   ]
  },
  {
   "cell_type": "code",
   "execution_count": null,
   "id": "07958a30-ed50-486e-925f-007f56ecb382",
   "metadata": {},
   "outputs": [
    {
     "name": "stdout",
     "output_type": "stream",
     "text": [
      "Cleaned Data:\n",
      "    Age\n",
      "0   18\n",
      "1   19\n",
      "2   20\n",
      "3   21\n",
      "4   22\n",
      "5   23\n",
      "7   25\n",
      "8   26\n",
      "9   27\n"
     ]
    }
   ],
   "source": [
    "#print(df[\"Age\"]) \n",
    "df_clean = df[(df[\"Age\"] >= lower_bound) & (df[\"Age\"] <= upper_bound)] \n",
    "print(\"Cleaned Data:\\n\", df_clean) \n"
   ]
  },
  {
   "cell_type": "code",
   "execution_count": null,
   "id": "18c57358-42b7-4da9-a58c-ea05195fef7d",
   "metadata": {},
   "outputs": [],
   "source": [
    "from sklearn.preprocessing import StandardScaler, LabelEncoder, OneHotEncoder"
   ]
  },
  {
   "cell_type": "code",
   "execution_count": null,
   "id": "4c2a1bd7-fad6-48f2-9a98-eedc79abb3b0",
   "metadata": {},
   "outputs": [
    {
     "data": {
      "text/html": [
       "<div>\n",
       "<style scoped>\n",
       "    .dataframe tbody tr th:only-of-type {\n",
       "        vertical-align: middle;\n",
       "    }\n",
       "\n",
       "    .dataframe tbody tr th {\n",
       "        vertical-align: top;\n",
       "    }\n",
       "\n",
       "    .dataframe thead th {\n",
       "        text-align: right;\n",
       "    }\n",
       "</style>\n",
       "<table border=\"1\" class=\"dataframe\">\n",
       "  <thead>\n",
       "    <tr style=\"text-align: right;\">\n",
       "      <th></th>\n",
       "      <th>Country</th>\n",
       "      <th>Age</th>\n",
       "      <th>Salary</th>\n",
       "      <th>Purchase</th>\n",
       "    </tr>\n",
       "  </thead>\n",
       "  <tbody>\n",
       "    <tr>\n",
       "      <th>0</th>\n",
       "      <td>France</td>\n",
       "      <td>44.0</td>\n",
       "      <td>72000.0</td>\n",
       "      <td>No</td>\n",
       "    </tr>\n",
       "    <tr>\n",
       "      <th>1</th>\n",
       "      <td>Spain</td>\n",
       "      <td>27.0</td>\n",
       "      <td>48000.0</td>\n",
       "      <td>Yes</td>\n",
       "    </tr>\n",
       "    <tr>\n",
       "      <th>2</th>\n",
       "      <td>Germany</td>\n",
       "      <td>30.0</td>\n",
       "      <td>54000.0</td>\n",
       "      <td>No</td>\n",
       "    </tr>\n",
       "    <tr>\n",
       "      <th>3</th>\n",
       "      <td>Spain</td>\n",
       "      <td>38.0</td>\n",
       "      <td>61000.0</td>\n",
       "      <td>No</td>\n",
       "    </tr>\n",
       "    <tr>\n",
       "      <th>4</th>\n",
       "      <td>Germany</td>\n",
       "      <td>40.0</td>\n",
       "      <td>NaN</td>\n",
       "      <td>Yes</td>\n",
       "    </tr>\n",
       "    <tr>\n",
       "      <th>5</th>\n",
       "      <td>France</td>\n",
       "      <td>25.0</td>\n",
       "      <td>58000.0</td>\n",
       "      <td>Yes</td>\n",
       "    </tr>\n",
       "    <tr>\n",
       "      <th>6</th>\n",
       "      <td>Spain</td>\n",
       "      <td>NaN</td>\n",
       "      <td>52000.0</td>\n",
       "      <td>No</td>\n",
       "    </tr>\n",
       "    <tr>\n",
       "      <th>7</th>\n",
       "      <td>France</td>\n",
       "      <td>48.0</td>\n",
       "      <td>79000.0</td>\n",
       "      <td>Yes</td>\n",
       "    </tr>\n",
       "    <tr>\n",
       "      <th>8</th>\n",
       "      <td>Germany</td>\n",
       "      <td>50.0</td>\n",
       "      <td>83000.0</td>\n",
       "      <td>No</td>\n",
       "    </tr>\n",
       "    <tr>\n",
       "      <th>9</th>\n",
       "      <td>India</td>\n",
       "      <td>35.0</td>\n",
       "      <td>92000.0</td>\n",
       "      <td>Yes</td>\n",
       "    </tr>\n",
       "    <tr>\n",
       "      <th>10</th>\n",
       "      <td>America</td>\n",
       "      <td>42.0</td>\n",
       "      <td>58000.0</td>\n",
       "      <td>No</td>\n",
       "    </tr>\n",
       "    <tr>\n",
       "      <th>11</th>\n",
       "      <td>Russia</td>\n",
       "      <td>63.0</td>\n",
       "      <td>32000.0</td>\n",
       "      <td>Yes</td>\n",
       "    </tr>\n",
       "    <tr>\n",
       "      <th>12</th>\n",
       "      <td>Canada</td>\n",
       "      <td>39.0</td>\n",
       "      <td>42000.0</td>\n",
       "      <td>No</td>\n",
       "    </tr>\n",
       "    <tr>\n",
       "      <th>13</th>\n",
       "      <td>Australia</td>\n",
       "      <td>46.0</td>\n",
       "      <td>53000.0</td>\n",
       "      <td>Yes</td>\n",
       "    </tr>\n",
       "  </tbody>\n",
       "</table>\n",
       "</div>"
      ],
      "text/plain": [
       "      Country   Age   Salary Purchase\n",
       "0      France  44.0  72000.0       No\n",
       "1       Spain  27.0  48000.0      Yes\n",
       "2     Germany  30.0  54000.0       No\n",
       "3       Spain  38.0  61000.0       No\n",
       "4     Germany  40.0      NaN      Yes\n",
       "5      France  25.0  58000.0      Yes\n",
       "6       Spain   NaN  52000.0       No\n",
       "7      France  48.0  79000.0      Yes\n",
       "8     Germany  50.0  83000.0       No\n",
       "9       India  35.0  92000.0      Yes\n",
       "10    America  42.0  58000.0       No\n",
       "11     Russia  63.0  32000.0      Yes\n",
       "12     Canada  39.0  42000.0       No\n",
       "13  Australia  46.0  53000.0      Yes"
      ]
     },
     "execution_count": 212,
     "metadata": {},
     "output_type": "execute_result"
    }
   ],
   "source": [
    "df=pd.read_csv(\"News.csv\")\n",
    "df"
   ]
  },
  {
   "cell_type": "code",
   "execution_count": null,
   "id": "de278333-f4e5-4920-8e37-747a059b9ace",
   "metadata": {},
   "outputs": [
    {
     "name": "stdout",
     "output_type": "stream",
     "text": [
      "      Country       Age    Salary Purchase\n",
      "0      France  0.350325  0.715994       No\n",
      "1       Spain -1.370158 -0.753678      Yes\n",
      "2     Germany -1.066544 -0.386260       No\n",
      "3       Spain -0.256905  0.042394       No\n",
      "4     Germany -0.054495       NaN      Yes\n",
      "5      France -1.572568 -0.141315      Yes\n",
      "6       Spain       NaN -0.508733       No\n",
      "7      France  0.755144  1.144648      Yes\n",
      "8     Germany  0.957554  1.389594       No\n",
      "9       India -0.560519  1.940721      Yes\n",
      "10    America  0.147915 -0.141315       No\n",
      "11     Russia  2.273217 -1.733459      Yes\n",
      "12     Canada -0.155700 -1.121096       No\n",
      "13  Australia  0.552734 -0.447496      Yes\n"
     ]
    }
   ],
   "source": [
    "scaler=StandardScaler()\n",
    "df[['Age','Salary']]=scaler.fit_transform(df[['Age','Salary']])\n",
    "print(df)"
   ]
  },
  {
   "cell_type": "code",
   "execution_count": null,
   "id": "f4055db7-55a4-460c-be90-011c0a8dc434",
   "metadata": {},
   "outputs": [],
   "source": [
    "from sklearn.preprocessing import StandardScaler, MinMaxScaler"
   ]
  },
  {
   "cell_type": "code",
   "execution_count": null,
   "id": "3957a9a4-b4f2-4c6f-9158-7d332d43aef5",
   "metadata": {},
   "outputs": [
    {
     "name": "stdout",
     "output_type": "stream",
     "text": [
      "      Country       Age    Salary Purchase\n",
      "0      France  0.500000  0.666667       No\n",
      "1       Spain  0.052632  0.266667      Yes\n",
      "2     Germany  0.131579  0.366667       No\n",
      "3       Spain  0.342105  0.483333       No\n",
      "4     Germany  0.394737       NaN      Yes\n",
      "5      France  0.000000  0.433333      Yes\n",
      "6       Spain       NaN  0.333333       No\n",
      "7      France  0.605263  0.783333      Yes\n",
      "8     Germany  0.657895  0.850000       No\n",
      "9       India  0.263158  1.000000      Yes\n",
      "10    America  0.447368  0.433333       No\n",
      "11     Russia  1.000000  0.000000      Yes\n",
      "12     Canada  0.368421  0.166667       No\n",
      "13  Australia  0.552632  0.350000      Yes\n"
     ]
    }
   ],
   "source": [
    "scaler=MinMaxScaler()\n",
    "df[['Age','Salary']]=scaler.fit_transform(df[['Age','Salary']])\n",
    "print(df)"
   ]
  },
  {
   "cell_type": "code",
   "execution_count": null,
   "id": "c21a2b54-314c-4c85-9254-6711355c3711",
   "metadata": {},
   "outputs": [
    {
     "name": "stdout",
     "output_type": "stream",
     "text": [
      "    Country       Age    Salary Purchase\n",
      "0         3  0.500000  0.666667       No\n",
      "1         7  0.052632  0.266667      Yes\n",
      "2         4  0.131579  0.366667       No\n",
      "3         7  0.342105  0.483333       No\n",
      "4         4  0.394737       NaN      Yes\n",
      "5         3  0.000000  0.433333      Yes\n",
      "6         7       NaN  0.333333       No\n",
      "7         3  0.605263  0.783333      Yes\n",
      "8         4  0.657895  0.850000       No\n",
      "9         5  0.263158  1.000000      Yes\n",
      "10        0  0.447368  0.433333       No\n",
      "11        6  1.000000  0.000000      Yes\n",
      "12        2  0.368421  0.166667       No\n",
      "13        1  0.552632  0.350000      Yes\n"
     ]
    }
   ],
   "source": [
    "scaler=LabelEncoder()\n",
    "df['Country']=scaler.fit_transform(df['Country'])\n",
    "print(df)"
   ]
  },
  {
   "cell_type": "code",
   "execution_count": null,
   "id": "98b93999-dfd9-4e75-b176-c98c557cd967",
   "metadata": {},
   "outputs": [
    {
     "name": "stdout",
     "output_type": "stream",
     "text": [
      "    Country       Age    Salary  Purchase\n",
      "0         3  0.500000  0.666667         0\n",
      "1         7  0.052632  0.266667         1\n",
      "2         4  0.131579  0.366667         0\n",
      "3         7  0.342105  0.483333         0\n",
      "4         4  0.394737       NaN         1\n",
      "5         3  0.000000  0.433333         1\n",
      "6         7       NaN  0.333333         0\n",
      "7         3  0.605263  0.783333         1\n",
      "8         4  0.657895  0.850000         0\n",
      "9         5  0.263158  1.000000         1\n",
      "10        0  0.447368  0.433333         0\n",
      "11        6  1.000000  0.000000         1\n",
      "12        2  0.368421  0.166667         0\n",
      "13        1  0.552632  0.350000         1\n"
     ]
    }
   ],
   "source": [
    "scaler=LabelEncoder()\n",
    "df['Purchase']=scaler.fit_transform(df['Purchase'])\n",
    "print(df)"
   ]
  },
  {
   "cell_type": "code",
   "execution_count": null,
   "id": "a3a17536-9b23-429e-8d2c-baaba95022e5",
   "metadata": {},
   "outputs": [
    {
     "data": {
      "text/html": [
       "<div>\n",
       "<style scoped>\n",
       "    .dataframe tbody tr th:only-of-type {\n",
       "        vertical-align: middle;\n",
       "    }\n",
       "\n",
       "    .dataframe tbody tr th {\n",
       "        vertical-align: top;\n",
       "    }\n",
       "\n",
       "    .dataframe thead th {\n",
       "        text-align: right;\n",
       "    }\n",
       "</style>\n",
       "<table border=\"1\" class=\"dataframe\">\n",
       "  <thead>\n",
       "    <tr style=\"text-align: right;\">\n",
       "      <th></th>\n",
       "      <th>Country</th>\n",
       "      <th>Age</th>\n",
       "      <th>Salary</th>\n",
       "      <th>Purchase</th>\n",
       "    </tr>\n",
       "  </thead>\n",
       "  <tbody>\n",
       "    <tr>\n",
       "      <th>Country</th>\n",
       "      <td>1.000000</td>\n",
       "      <td>-0.089070</td>\n",
       "      <td>-0.095534</td>\n",
       "      <td>0.066815</td>\n",
       "    </tr>\n",
       "    <tr>\n",
       "      <th>Age</th>\n",
       "      <td>-0.089070</td>\n",
       "      <td>1.000000</td>\n",
       "      <td>-0.079532</td>\n",
       "      <td>0.003604</td>\n",
       "    </tr>\n",
       "    <tr>\n",
       "      <th>Salary</th>\n",
       "      <td>-0.095534</td>\n",
       "      <td>-0.079532</td>\n",
       "      <td>1.000000</td>\n",
       "      <td>0.001454</td>\n",
       "    </tr>\n",
       "    <tr>\n",
       "      <th>Purchase</th>\n",
       "      <td>0.066815</td>\n",
       "      <td>0.003604</td>\n",
       "      <td>0.001454</td>\n",
       "      <td>1.000000</td>\n",
       "    </tr>\n",
       "  </tbody>\n",
       "</table>\n",
       "</div>"
      ],
      "text/plain": [
       "           Country       Age    Salary  Purchase\n",
       "Country   1.000000 -0.089070 -0.095534  0.066815\n",
       "Age      -0.089070  1.000000 -0.079532  0.003604\n",
       "Salary   -0.095534 -0.079532  1.000000  0.001454\n",
       "Purchase  0.066815  0.003604  0.001454  1.000000"
      ]
     },
     "execution_count": 224,
     "metadata": {},
     "output_type": "execute_result"
    }
   ],
   "source": [
    "#Correlation matrix : \n",
    "df.corr(method='pearson')"
   ]
  },
  {
   "cell_type": "code",
   "execution_count": null,
   "id": "2e35bdba-11ee-45f1-9e4d-31e16e9067f0",
   "metadata": {},
   "outputs": [
    {
     "data": {
      "text/plain": [
       "<Axes: >"
      ]
     },
     "execution_count": 226,
     "metadata": {},
     "output_type": "execute_result"
    },
    {
     "data": {
      "image/png": "[encoded data removed]",
      "text/plain": [
       "<Figure size 640x480 with 2 Axes>"
      ]
     },
     "metadata": {},
     "output_type": "display_data"
    }
   ],
   "source": [
    "#heatmap  \n",
    "import seaborn as sns \n",
    "sns.heatmap(df.corr(),annot=True)"
   ]
  },
  {
   "cell_type": "code",
   "execution_count": null,
   "id": "8e75a6c5-cd00-4f93-87cc-9968b7044b4d",
   "metadata": {},
   "outputs": [],
   "source": [
    "#for categorical :chi-square test \n",
    "from sklearn.feature_selection import chi2 \n",
    "from sklearn.preprocessing import LabelEncoder \n",
    "from sklearn.model_selection import train_test_split \n",
    "import pandas as pd"
   ]
  },
  {
   "cell_type": "code",
   "execution_count": null,
   "id": "40b3129c-73a3-4644-b5d3-451882091fc1",
   "metadata": {},
   "outputs": [],
   "source": [
    "X = df.iloc[:,0:4] # Features \n",
    "y = df.iloc[:,-1]  # Target variable"
   ]
  },
  {
   "cell_type": "code",
   "execution_count": null,
   "id": "668e68f4-e38e-4513-9d8e-764cd0ab27f8",
   "metadata": {},
   "outputs": [],
   "source": [
    "X_encoded = X.apply(LabelEncoder().fit_transform) "
   ]
  },
  {
   "cell_type": "code",
   "execution_count": null,
   "id": "d40c8cb2-31e7-4962-b901-119ce41f756c",
   "metadata": {},
   "outputs": [],
   "source": [
    "chi2_values, p_values = chi2(X_encoded, y)"
   ]
  },
  {
   "cell_type": "code",
   "execution_count": null,
   "id": "b4bd2ea8-dbf3-48c9-a6fe-632ac17276ea",
   "metadata": {},
   "outputs": [],
   "source": [
    "chi2_results = pd.DataFrame({ \n",
    "'Feature': X.columns,\n",
    "'Chi-Square Value': chi2_values, \n",
    "'P-Value': p_values \n",
    "})"
   ]
  },
  {
   "cell_type": "code",
   "execution_count": null,
   "id": "2f9bc53b-0292-4dc0-95c0-17c39e6f7fce",
   "metadata": {},
   "outputs": [
    {
     "name": "stdout",
     "output_type": "stream",
     "text": [
      "    Feature  Chi-Square Value   P-Value\n",
      "0   Country          0.071429  0.789268\n",
      "1       Age          0.890110  0.345448\n",
      "2    Salary          0.190476  0.662521\n",
      "3  Purchase          7.000000  0.008151\n"
     ]
    }
   ],
   "source": [
    "print(chi2_results) "
   ]
  },
  {
   "cell_type": "code",
   "execution_count": null,
   "id": "6b951048-8848-4490-8ff3-36df6f3ccb3b",
   "metadata": {},
   "outputs": [
    {
     "name": "stdout",
     "output_type": "stream",
     "text": [
      "Selected Features based on Chi-Square test: 3    Purchase\n",
      "Name: Feature, dtype: object\n"
     ]
    }
   ],
   "source": [
    "selected_features = chi2_results[chi2_results['P-Value'] < 0.05]['Feature'] \n",
    "print(\"Selected Features based on Chi-Square test:\", selected_features)"
   ]
  },
  {
   "cell_type": "code",
   "execution_count": null,
   "id": "0b7c40f2-309d-4588-9b1a-d99bfa38a35d",
   "metadata": {},
   "outputs": [],
   "source": [
    "#Dimensionality Reduction: \n",
    "from sklearn.decomposition import PCA \n",
    "import pandas as pd "
   ]
  },
  {
   "cell_type": "code",
   "execution_count": null,
   "id": "ceb99c88-5ce4-48d3-b280-3d86d6981377",
   "metadata": {},
   "outputs": [],
   "source": [
    "data = { \n",
    "'Feature1': [1, 2, 3, 4, 5], \n",
    "'Feature2': [5, 4, 3, 2, 1], \n",
    "'Feature3': [2, 3, 4, 5, 6], \n",
    "'Target': [1, 0, 1, 0, 1] \n",
    "}\n",
    "df = pd.DataFrame(data)"
   ]
  },
  {
   "cell_type": "code",
   "execution_count": null,
   "id": "e363b6f8-6d19-4bd7-9c2f-c85cd0493e82",
   "metadata": {},
   "outputs": [],
   "source": [
    "X = df.drop('Target', axis=1)"
   ]
  },
  {
   "cell_type": "code",
   "execution_count": null,
   "id": "607027f4-eb77-49ac-8aa6-d5a913959e95",
   "metadata": {},
   "outputs": [],
   "source": [
    "pca = PCA(n_components=2) \n",
    "principal_components = pca.fit_transform(X)"
   ]
  },
  {
   "cell_type": "code",
   "execution_count": null,
   "id": "70c3a932-9e57-4943-b245-b77a35367e76",
   "metadata": {},
   "outputs": [
    {
     "name": "stdout",
     "output_type": "stream",
     "text": [
      "        PC1           PC2\n",
      "0 -3.464102  3.708359e-16\n",
      "1 -1.732051 -1.236120e-16\n",
      "2  0.000000 -0.000000e+00\n",
      "3  1.732051  1.236120e-16\n",
      "4  3.464102  2.472239e-16\n"
     ]
    }
   ],
   "source": [
    "principal_df = pd.DataFrame(data=principal_components, columns=['PC1', 'PC2']) \n",
    "print(principal_df)"
   ]
  },
  {
   "cell_type": "code",
   "execution_count": null,
   "id": "4af20938-9981-42cd-a909-5188a7eae1c4",
   "metadata": {},
   "outputs": [],
   "source": []
  },
  {
   "cell_type": "code",
   "execution_count": null,
   "id": "829f505d-1685-436e-b9f5-f3ac4e33082a",
   "metadata": {},
   "outputs": [],
   "source": []
  }
 ],
 "metadata": {
  "kernelspec": {
   "display_name": "Python 3",
   "language": "python",
   "name": "python3"
  },
  "language_info": {
   "codemirror_mode": {
    "name": "ipython",
    "version": 3
   },
   "file_extension": ".py",
   "mimetype": "text/x-python",
   "name": "python",
   "nbconvert_exporter": "python",
   "pygments_lexer": "ipython3",
   "version": "3.11.9"
  }
 },
 "nbformat": 4,
 "nbformat_minor": 5
}
